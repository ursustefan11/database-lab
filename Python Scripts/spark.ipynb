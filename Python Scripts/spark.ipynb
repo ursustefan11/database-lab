{
 "cells": [
  {
   "cell_type": "code",
   "execution_count": 3,
   "id": "b522525e-0910-4b13-811d-b79292aa71d3",
   "metadata": {
    "scrolled": true
   },
   "outputs": [],
   "source": [
    "from pyspark.sql import SparkSession\n",
    "from pyspark.sql.functions import col, when\n",
    "import pyspark.sql.functions as F\n",
    "import pandas as pd\n",
    "import matplotlib.pyplot as plt"
   ]
  },
  {
   "cell_type": "code",
   "execution_count": 4,
   "id": "6bd3ed40-a3fe-4bd1-95c5-b56f4f2dae7b",
   "metadata": {},
   "outputs": [],
   "source": [
    "spark = SparkSession.builder.getOrCreate()\n",
    "\n",
    "df_customers = spark.read \\\n",
    "    .format(\"jdbc\") \\\n",
    "    .option(\"url\", \"jdbc:sqlserver://localhost:1433;databaseName=NewSampleDW;\") \\\n",
    "    .option(\"driver\", \"com.microsoft.sqlserver.jdbc.SQLServerDriver\") \\\n",
    "    .option(\"dbtable\", \"dbo.DimCustomers\") \\\n",
    "    .option(\"user\", \"python_insert\") \\\n",
    "    .option(\"password\", \"password\") \\\n",
    "    .load()\n",
    "\n",
    "df_dates = spark.read \\\n",
    "    .format(\"jdbc\") \\\n",
    "    .option(\"url\", \"jdbc:sqlserver://localhost:1433;databaseName=NewSampleDW;\") \\\n",
    "    .option(\"driver\", \"com.microsoft.sqlserver.jdbc.SQLServerDriver\") \\\n",
    "    .option(\"dbtable\", \"dbo.DimDate\") \\\n",
    "    .option(\"user\", \"python_insert\") \\\n",
    "    .option(\"password\", \"password\") \\\n",
    "    .load()"
   ]
  },
  {
   "cell_type": "code",
   "execution_count": 5,
   "id": "1a810c93-6d0d-47eb-9a0a-b0058429981c",
   "metadata": {},
   "outputs": [
    {
     "name": "stdout",
     "output_type": "stream",
     "text": [
      "+---------+-----+\n",
      "|age_group|count|\n",
      "+---------+-----+\n",
      "|      -20|19349|\n",
      "|    20-25| 8005|\n",
      "|    25-35|13163|\n",
      "|    35-50|19505|\n",
      "|      50+|11488|\n",
      "+---------+-----+\n",
      "\n"
     ]
    }
   ],
   "source": [
    "df_age = df_customers.join(df_dates, df_customers[\"BirthDateKey\"] == df_dates[\"DateKey\"], \"inner\")\n",
    "df_age = df_age.withColumn(\"Age\", (2023 - df_dates[\"Year\"]))\n",
    "df_age = df_age.withColumn(\"age_group\", \n",
    "    when(col(\"age\") < 20, \"-20\")\n",
    "    .when((col(\"age\") >= 20) & (col(\"age\") <= 25), \"20-25\")\n",
    "    .when((col(\"age\") > 25) & (col(\"age\") <= 35), \"25-35\")\n",
    "    .when((col(\"age\") > 35) & (col(\"age\") <= 50), \"35-50\")\n",
    "    .otherwise(\"50+\")\n",
    ")\n",
    "\n",
    "result = df_age.groupBy(\"age_group\").count().orderBy(\"age_group\")\n",
    "result.show()"
   ]
  },
  {
   "cell_type": "code",
   "execution_count": 6,
   "id": "b19f17c8-c289-4457-9724-a5ba188c6bd0",
   "metadata": {},
   "outputs": [
    {
     "name": "stdout",
     "output_type": "stream",
     "text": [
      "  age_group  count\n",
      "0       -20  19349\n",
      "1     20-25   8005\n",
      "2     25-35  13163\n",
      "3     35-50  19505\n",
      "4       50+  11488\n"
     ]
    },
    {
     "data": {
      "image/png": "[encoded data removed]",
      "text/plain": [
       "<Figure size 640x480 with 1 Axes>"
      ]
     },
     "metadata": {},
     "output_type": "display_data"
    }
   ],
   "source": [
    "pandas_df = result.toPandas()\n",
    "print(pandas_df)\n",
    "\n",
    "test = pandas_df.plot(kind='bar')\n",
    "# plt.hist(pandas_df[\"age_group\"], bins=5)\n",
    "# plt.xlabel(\"Age\")\n",
    "# plt.ylabel(\"Count\")\n",
    "# plt.title(\"Age Distribution\")\n",
    "# plt.show()"
   ]
  },
  {
   "cell_type": "code",
   "execution_count": null,
   "id": "451ee864-9b60-4a2a-b4be-ec27e3e578e5",
   "metadata": {},
   "outputs": [],
   "source": []
  }
 ],
 "metadata": {
  "kernelspec": {
   "display_name": "Python 3 (ipykernel)",
   "language": "python",
   "name": "python3"
  },
  "language_info": {
   "codemirror_mode": {
    "name": "ipython",
    "version": 3
   },
   "file_extension": ".py",
   "mimetype": "text/x-python",
   "name": "python",
   "nbconvert_exporter": "python",
   "pygments_lexer": "ipython3",
   "version": "3.11.3"
  }
 },
 "nbformat": 4,
 "nbformat_minor": 5
}
