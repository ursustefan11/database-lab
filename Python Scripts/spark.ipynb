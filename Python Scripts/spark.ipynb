{
 "cells": [
  {
   "cell_type": "code",
   "execution_count": 7,
   "id": "bce9d083-c820-48d9-b2cd-b02b4a471fe7",
   "metadata": {
    "scrolled": true
   },
   "outputs": [
    {
     "name": "stdout",
     "output_type": "stream",
     "text": [
      "+---------+-----+\n",
      "|age_group|count|\n",
      "+---------+-----+\n",
      "|    20-25| 8005|\n",
      "|    25-35|13163|\n",
      "|    35-50|19505|\n",
      "|      50+|11488|\n",
      "|      <20|19349|\n",
      "+---------+-----+\n",
      "\n"
     ]
    },
    {
     "data": {
      "image/png": "[encoded data removed]",
      "text/plain": [
       "<Figure size 640x480 with 1 Axes>"
      ]
     },
     "metadata": {},
     "output_type": "display_data"
    }
   ],
   "source": [
    "from pyspark.sql import SparkSession\n",
    "from pyspark.sql.functions import col, when\n",
    "from pyspark import SparkConf\n",
    "import pyspark.sql.functions as F\n",
    "import pandas as pd\n",
    "import matplotlib.pyplot as plt\n",
    "\n",
    "# conf = SparkConf().setAppName(\"MyFirst\").setMaster(\"Local[*]\")\n",
    "\n",
    "# Create a Spark session\n",
    "spark = SparkSession.builder.getOrCreate()\n",
    "\n",
    "# Load the database tables into Spark DataFrames\n",
    "df_customers = spark.read \\\n",
    "    .format(\"jdbc\") \\\n",
    "    .option(\"url\", \"jdbc:sqlserver://localhost:1433;databaseName=NewSampleDW;\") \\\n",
    "    .option(\"driver\", \"com.microsoft.sqlserver.jdbc.SQLServerDriver\") \\\n",
    "    .option(\"dbtable\", \"dbo.DimCustomers\") \\\n",
    "    .option(\"user\", \"python_insert\") \\\n",
    "    .option(\"password\", \"password\") \\\n",
    "    .load()\n",
    "\n",
    "df_dates = spark.read \\\n",
    "    .format(\"jdbc\") \\\n",
    "    .option(\"url\", \"jdbc:sqlserver://localhost:1433;databaseName=NewSampleDW;\") \\\n",
    "    .option(\"driver\", \"com.microsoft.sqlserver.jdbc.SQLServerDriver\") \\\n",
    "    .option(\"dbtable\", \"dbo.DimDate\") \\\n",
    "    .option(\"user\", \"python_insert\") \\\n",
    "    .option(\"password\", \"password\") \\\n",
    "    .load()\n",
    "\n",
    "df_age = df_customers.join(df_dates, df_customers[\"BirthDateKey\"] == df_dates[\"DateKey\"], \"inner\")\n",
    "\n",
    "# Calculate the age of each customer based on their birthdate\n",
    "df_age = df_age.withColumn(\"age\", (2023 - df_dates[\"Year\"]))\n",
    "\n",
    "# Define age groups using `when` function\n",
    "df_age = df_age.withColumn(\"age_group\", \n",
    "    when(col(\"age\") < 20, \"<20\")\n",
    "    .when((col(\"age\") >= 20) & (col(\"age\") <= 25), \"20-25\")\n",
    "    .when((col(\"age\") > 25) & (col(\"age\") <= 35), \"25-35\")\n",
    "    .when((col(\"age\") > 35) & (col(\"age\") <= 50), \"35-50\")\n",
    "    .otherwise(\"50+\")\n",
    ")\n",
    "\n",
    "# THEN CREATE A GRAPH TO SHOW MOST SOLD PRODUCT BY AGE\n",
    "\n",
    "# Group customers by age group and count the number of customers in each group\n",
    "result = df_age.groupBy(\"age_group\").count().orderBy(\"age_group\")\n",
    "result.show()\n",
    "\n",
    "# Show the result\n",
    "pandas_df = result.toPandas()\n",
    "\n",
    "plt.hist(pandas_df[\"age_group\"], bins=5)\n",
    "plt.xlabel(\"Age\")\n",
    "plt.ylabel(\"Count\")\n",
    "plt.title(\"Age Distribution\")\n",
    "plt.show()"
   ]
  }
 ],
 "metadata": {
  "kernelspec": {
   "display_name": "Python 3 (ipykernel)",
   "language": "python",
   "name": "python3"
  },
  "language_info": {
   "codemirror_mode": {
    "name": "ipython",
    "version": 3
   },
   "file_extension": ".py",
   "mimetype": "text/x-python",
   "name": "python",
   "nbconvert_exporter": "python",
   "pygments_lexer": "ipython3",
   "version": "3.11.3"
  }
 },
 "nbformat": 4,
 "nbformat_minor": 5
}
